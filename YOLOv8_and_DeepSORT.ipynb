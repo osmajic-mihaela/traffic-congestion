{
  "nbformat": 4,
  "nbformat_minor": 0,
  "metadata": {
    "colab": {
      "provenance": [],
      "authorship_tag": "ABX9TyPMfZAsED9Ppt0En9ZtqknL",
      "include_colab_link": true
    },
    "kernelspec": {
      "name": "python3",
      "display_name": "Python 3"
    },
    "language_info": {
      "name": "python"
    }
  },
  "cells": [
    {
      "cell_type": "markdown",
      "metadata": {
        "id": "view-in-github",
        "colab_type": "text"
      },
      "source": [
        "<a href=\"https://colab.research.google.com/github/osmajic-mihaela/traffic-congestion/blob/dataset-creation/YOLOv8_and_DeepSORT.ipynb\" target=\"_parent\"><img src=\"https://colab.research.google.com/assets/colab-badge.svg\" alt=\"Open In Colab\"/></a>"
      ]
    },
    {
      "cell_type": "markdown",
      "source": [
        "##Clone the Github Repo"
      ],
      "metadata": {
        "id": "vgL1pi6sIm4Z"
      }
    },
    {
      "cell_type": "code",
      "execution_count": null,
      "metadata": {
        "colab": {
          "base_uri": "https://localhost:8080/"
        },
        "id": "QeAg9zPe-VXl",
        "outputId": "5bafa9fb-7659-4869-f362-7c3a8e5bfd69"
      },
      "outputs": [
        {
          "output_type": "stream",
          "name": "stdout",
          "text": [
            "Cloning into 'traffic-congestion'...\n",
            "remote: Enumerating objects: 184, done.\u001b[K\n",
            "remote: Counting objects: 100% (184/184), done.\u001b[K\n",
            "remote: Compressing objects: 100% (152/152), done.\u001b[K\n",
            "remote: Total 184 (delta 26), reused 180 (delta 25), pack-reused 0\u001b[K\n",
            "Receiving objects: 100% (184/184), 36.16 MiB | 21.00 MiB/s, done.\n",
            "Resolving deltas: 100% (26/26), done.\n"
          ]
        }
      ],
      "source": [
        "!git clone https://github.com/osmajic-mihaela/traffic-congestion.git"
      ]
    },
    {
      "cell_type": "markdown",
      "source": [
        "##Setting the YOLOv8-DeepSORT directory"
      ],
      "metadata": {
        "id": "cczI2qugIsri"
      }
    },
    {
      "cell_type": "code",
      "source": [
        "%cd /content/traffic-congestion/dataset/YOLOv8-DeepSORT/YOLOv8-DeepSORT-Object-Tracking-main"
      ],
      "metadata": {
        "colab": {
          "base_uri": "https://localhost:8080/"
        },
        "id": "EqoxrlmT-cCW",
        "outputId": "e03abfaf-3b37-41ea-e6be-22ccfada1eed"
      },
      "execution_count": null,
      "outputs": [
        {
          "output_type": "stream",
          "name": "stdout",
          "text": [
            "/content/traffic-congestion/dataset/YOLOv8-DeepSORT/YOLOv8-DeepSORT-Object-Tracking-main\n"
          ]
        }
      ]
    },
    {
      "cell_type": "markdown",
      "source": [
        "##Install all dependencies"
      ],
      "metadata": {
        "id": "byYUa0PbI1Da"
      }
    },
    {
      "cell_type": "code",
      "source": [
        "!pip install -e '.[dev]'"
      ],
      "metadata": {
        "colab": {
          "base_uri": "https://localhost:8080/",
          "height": 1000
        },
        "id": "6u9qRdRw-wsT",
        "outputId": "1fe5f931-d604-4f8f-b604-d367d04067d7"
      },
      "execution_count": null,
      "outputs": [
        {
          "output_type": "stream",
          "name": "stdout",
          "text": [
            "Obtaining file:///content/traffic-congestion/dataset/YOLOv8-DeepSORT/YOLOv8-DeepSORT-Object-Tracking-main\n",
            "  Preparing metadata (setup.py) ... \u001b[?25l\u001b[?25hdone\n",
            "Collecting hydra-core>=1.2.0 (from ultralytics==8.0.3)\n",
            "  Downloading hydra_core-1.3.2-py3-none-any.whl (154 kB)\n",
            "\u001b[2K     \u001b[90m━━━━━━━━━━━━━━━━━━━━━━━━━━━━━━━━━━━━━━━━\u001b[0m \u001b[32m154.5/154.5 kB\u001b[0m \u001b[31m2.7 MB/s\u001b[0m eta \u001b[36m0:00:00\u001b[0m\n",
            "\u001b[?25hRequirement already satisfied: matplotlib>=3.2.2 in /usr/local/lib/python3.10/dist-packages (from ultralytics==8.0.3) (3.7.1)\n",
            "Requirement already satisfied: numpy>=1.18.5 in /usr/local/lib/python3.10/dist-packages (from ultralytics==8.0.3) (1.23.5)\n",
            "Requirement already satisfied: opencv-python>=4.1.1 in /usr/local/lib/python3.10/dist-packages (from ultralytics==8.0.3) (4.8.0.76)\n",
            "Requirement already satisfied: Pillow>=7.1.2 in /usr/local/lib/python3.10/dist-packages (from ultralytics==8.0.3) (9.4.0)\n",
            "Requirement already satisfied: PyYAML>=5.3.1 in /usr/local/lib/python3.10/dist-packages (from ultralytics==8.0.3) (6.0.1)\n",
            "Requirement already satisfied: requests>=2.23.0 in /usr/local/lib/python3.10/dist-packages (from ultralytics==8.0.3) (2.31.0)\n",
            "Requirement already satisfied: scipy>=1.4.1 in /usr/local/lib/python3.10/dist-packages (from ultralytics==8.0.3) (1.11.4)\n",
            "Requirement already satisfied: torch>=1.7.0 in /usr/local/lib/python3.10/dist-packages (from ultralytics==8.0.3) (2.1.0+cu121)\n",
            "Requirement already satisfied: torchvision>=0.8.1 in /usr/local/lib/python3.10/dist-packages (from ultralytics==8.0.3) (0.16.0+cu121)\n",
            "Requirement already satisfied: tqdm>=4.64.0 in /usr/local/lib/python3.10/dist-packages (from ultralytics==8.0.3) (4.66.1)\n",
            "Requirement already satisfied: tensorboard>=2.4.1 in /usr/local/lib/python3.10/dist-packages (from ultralytics==8.0.3) (2.15.1)\n",
            "Requirement already satisfied: pandas>=1.1.4 in /usr/local/lib/python3.10/dist-packages (from ultralytics==8.0.3) (1.5.3)\n",
            "Requirement already satisfied: seaborn>=0.11.0 in /usr/local/lib/python3.10/dist-packages (from ultralytics==8.0.3) (0.12.2)\n",
            "Requirement already satisfied: ipython in /usr/local/lib/python3.10/dist-packages (from ultralytics==8.0.3) (7.34.0)\n",
            "Requirement already satisfied: psutil in /usr/local/lib/python3.10/dist-packages (from ultralytics==8.0.3) (5.9.5)\n",
            "Collecting thop>=0.1.1 (from ultralytics==8.0.3)\n",
            "  Downloading thop-0.1.1.post2209072238-py3-none-any.whl (15 kB)\n",
            "Collecting GitPython>=3.1.24 (from ultralytics==8.0.3)\n",
            "  Downloading GitPython-3.1.41-py3-none-any.whl (196 kB)\n",
            "\u001b[2K     \u001b[90m━━━━━━━━━━━━━━━━━━━━━━━━━━━━━━━━━━━━━━━━\u001b[0m \u001b[32m196.4/196.4 kB\u001b[0m \u001b[31m19.9 MB/s\u001b[0m eta \u001b[36m0:00:00\u001b[0m\n",
            "\u001b[?25hCollecting check-manifest (from ultralytics==8.0.3)\n",
            "  Downloading check_manifest-0.49-py3-none-any.whl (20 kB)\n",
            "Requirement already satisfied: pytest in /usr/local/lib/python3.10/dist-packages (from ultralytics==8.0.3) (7.4.4)\n",
            "Collecting pytest-cov (from ultralytics==8.0.3)\n",
            "  Downloading pytest_cov-4.1.0-py3-none-any.whl (21 kB)\n",
            "Collecting coverage (from ultralytics==8.0.3)\n",
            "  Downloading coverage-7.4.0-cp310-cp310-manylinux_2_5_x86_64.manylinux1_x86_64.manylinux_2_17_x86_64.manylinux2014_x86_64.whl (233 kB)\n",
            "\u001b[2K     \u001b[90m━━━━━━━━━━━━━━━━━━━━━━━━━━━━━━━━━━━━━━━━\u001b[0m \u001b[32m233.2/233.2 kB\u001b[0m \u001b[31m21.1 MB/s\u001b[0m eta \u001b[36m0:00:00\u001b[0m\n",
            "\u001b[?25hCollecting mkdocs (from ultralytics==8.0.3)\n",
            "  Downloading mkdocs-1.5.3-py3-none-any.whl (3.7 MB)\n",
            "\u001b[2K     \u001b[90m━━━━━━━━━━━━━━━━━━━━━━━━━━━━━━━━━━━━━━━━\u001b[0m \u001b[32m3.7/3.7 MB\u001b[0m \u001b[31m55.8 MB/s\u001b[0m eta \u001b[36m0:00:00\u001b[0m\n",
            "\u001b[?25hCollecting mkdocstrings[python] (from ultralytics==8.0.3)\n",
            "  Downloading mkdocstrings-0.24.0-py3-none-any.whl (28 kB)\n",
            "Collecting mkdocs-material (from ultralytics==8.0.3)\n",
            "  Downloading mkdocs_material-9.5.3-py3-none-any.whl (8.6 MB)\n",
            "\u001b[2K     \u001b[90m━━━━━━━━━━━━━━━━━━━━━━━━━━━━━━━━━━━━━━━━\u001b[0m \u001b[32m8.6/8.6 MB\u001b[0m \u001b[31m54.6 MB/s\u001b[0m eta \u001b[36m0:00:00\u001b[0m\n",
            "\u001b[?25hCollecting gitdb<5,>=4.0.1 (from GitPython>=3.1.24->ultralytics==8.0.3)\n",
            "  Downloading gitdb-4.0.11-py3-none-any.whl (62 kB)\n",
            "\u001b[2K     \u001b[90m━━━━━━━━━━━━━━━━━━━━━━━━━━━━━━━━━━━━━━━━\u001b[0m \u001b[32m62.7/62.7 kB\u001b[0m \u001b[31m7.5 MB/s\u001b[0m eta \u001b[36m0:00:00\u001b[0m\n",
            "\u001b[?25hCollecting omegaconf<2.4,>=2.2 (from hydra-core>=1.2.0->ultralytics==8.0.3)\n",
            "  Downloading omegaconf-2.3.0-py3-none-any.whl (79 kB)\n",
            "\u001b[2K     \u001b[90m━━━━━━━━━━━━━━━━━━━━━━━━━━━━━━━━━━━━━━━━\u001b[0m \u001b[32m79.5/79.5 kB\u001b[0m \u001b[31m11.1 MB/s\u001b[0m eta \u001b[36m0:00:00\u001b[0m\n",
            "\u001b[?25hCollecting antlr4-python3-runtime==4.9.* (from hydra-core>=1.2.0->ultralytics==8.0.3)\n",
            "  Downloading antlr4-python3-runtime-4.9.3.tar.gz (117 kB)\n",
            "\u001b[2K     \u001b[90m━━━━━━━━━━━━━━━━━━━━━━━━━━━━━━━━━━━━━━━━\u001b[0m \u001b[32m117.0/117.0 kB\u001b[0m \u001b[31m15.4 MB/s\u001b[0m eta \u001b[36m0:00:00\u001b[0m\n",
            "\u001b[?25h  Preparing metadata (setup.py) ... \u001b[?25l\u001b[?25hdone\n",
            "Requirement already satisfied: packaging in /usr/local/lib/python3.10/dist-packages (from hydra-core>=1.2.0->ultralytics==8.0.3) (23.2)\n",
            "Requirement already satisfied: contourpy>=1.0.1 in /usr/local/lib/python3.10/dist-packages (from matplotlib>=3.2.2->ultralytics==8.0.3) (1.2.0)\n",
            "Requirement already satisfied: cycler>=0.10 in /usr/local/lib/python3.10/dist-packages (from matplotlib>=3.2.2->ultralytics==8.0.3) (0.12.1)\n",
            "Requirement already satisfied: fonttools>=4.22.0 in /usr/local/lib/python3.10/dist-packages (from matplotlib>=3.2.2->ultralytics==8.0.3) (4.47.0)\n",
            "Requirement already satisfied: kiwisolver>=1.0.1 in /usr/local/lib/python3.10/dist-packages (from matplotlib>=3.2.2->ultralytics==8.0.3) (1.4.5)\n",
            "Requirement already satisfied: pyparsing>=2.3.1 in /usr/local/lib/python3.10/dist-packages (from matplotlib>=3.2.2->ultralytics==8.0.3) (3.1.1)\n",
            "Requirement already satisfied: python-dateutil>=2.7 in /usr/local/lib/python3.10/dist-packages (from matplotlib>=3.2.2->ultralytics==8.0.3) (2.8.2)\n",
            "Requirement already satisfied: pytz>=2020.1 in /usr/local/lib/python3.10/dist-packages (from pandas>=1.1.4->ultralytics==8.0.3) (2023.3.post1)\n",
            "Requirement already satisfied: charset-normalizer<4,>=2 in /usr/local/lib/python3.10/dist-packages (from requests>=2.23.0->ultralytics==8.0.3) (3.3.2)\n",
            "Requirement already satisfied: idna<4,>=2.5 in /usr/local/lib/python3.10/dist-packages (from requests>=2.23.0->ultralytics==8.0.3) (3.6)\n",
            "Requirement already satisfied: urllib3<3,>=1.21.1 in /usr/local/lib/python3.10/dist-packages (from requests>=2.23.0->ultralytics==8.0.3) (2.0.7)\n",
            "Requirement already satisfied: certifi>=2017.4.17 in /usr/local/lib/python3.10/dist-packages (from requests>=2.23.0->ultralytics==8.0.3) (2023.11.17)\n",
            "Requirement already satisfied: absl-py>=0.4 in /usr/local/lib/python3.10/dist-packages (from tensorboard>=2.4.1->ultralytics==8.0.3) (1.4.0)\n",
            "Requirement already satisfied: grpcio>=1.48.2 in /usr/local/lib/python3.10/dist-packages (from tensorboard>=2.4.1->ultralytics==8.0.3) (1.60.0)\n",
            "Requirement already satisfied: google-auth<3,>=1.6.3 in /usr/local/lib/python3.10/dist-packages (from tensorboard>=2.4.1->ultralytics==8.0.3) (2.17.3)\n",
            "Requirement already satisfied: google-auth-oauthlib<2,>=0.5 in /usr/local/lib/python3.10/dist-packages (from tensorboard>=2.4.1->ultralytics==8.0.3) (1.2.0)\n",
            "Requirement already satisfied: markdown>=2.6.8 in /usr/local/lib/python3.10/dist-packages (from tensorboard>=2.4.1->ultralytics==8.0.3) (3.5.1)\n",
            "Requirement already satisfied: protobuf<4.24,>=3.19.6 in /usr/local/lib/python3.10/dist-packages (from tensorboard>=2.4.1->ultralytics==8.0.3) (3.20.3)\n",
            "Requirement already satisfied: setuptools>=41.0.0 in /usr/local/lib/python3.10/dist-packages (from tensorboard>=2.4.1->ultralytics==8.0.3) (67.7.2)\n",
            "Requirement already satisfied: six>1.9 in /usr/local/lib/python3.10/dist-packages (from tensorboard>=2.4.1->ultralytics==8.0.3) (1.16.0)\n",
            "Requirement already satisfied: tensorboard-data-server<0.8.0,>=0.7.0 in /usr/local/lib/python3.10/dist-packages (from tensorboard>=2.4.1->ultralytics==8.0.3) (0.7.2)\n",
            "Requirement already satisfied: werkzeug>=1.0.1 in /usr/local/lib/python3.10/dist-packages (from tensorboard>=2.4.1->ultralytics==8.0.3) (3.0.1)\n",
            "Requirement already satisfied: filelock in /usr/local/lib/python3.10/dist-packages (from torch>=1.7.0->ultralytics==8.0.3) (3.13.1)\n",
            "Requirement already satisfied: typing-extensions in /usr/local/lib/python3.10/dist-packages (from torch>=1.7.0->ultralytics==8.0.3) (4.5.0)\n",
            "Requirement already satisfied: sympy in /usr/local/lib/python3.10/dist-packages (from torch>=1.7.0->ultralytics==8.0.3) (1.12)\n",
            "Requirement already satisfied: networkx in /usr/local/lib/python3.10/dist-packages (from torch>=1.7.0->ultralytics==8.0.3) (3.2.1)\n",
            "Requirement already satisfied: jinja2 in /usr/local/lib/python3.10/dist-packages (from torch>=1.7.0->ultralytics==8.0.3) (3.1.2)\n",
            "Requirement already satisfied: fsspec in /usr/local/lib/python3.10/dist-packages (from torch>=1.7.0->ultralytics==8.0.3) (2023.6.0)\n",
            "Requirement already satisfied: triton==2.1.0 in /usr/local/lib/python3.10/dist-packages (from torch>=1.7.0->ultralytics==8.0.3) (2.1.0)\n",
            "Requirement already satisfied: build>=0.1 in /usr/local/lib/python3.10/dist-packages (from check-manifest->ultralytics==8.0.3) (1.0.3)\n",
            "Requirement already satisfied: tomli in /usr/local/lib/python3.10/dist-packages (from check-manifest->ultralytics==8.0.3) (2.0.1)\n",
            "Collecting jedi>=0.16 (from ipython->ultralytics==8.0.3)\n",
            "  Downloading jedi-0.19.1-py2.py3-none-any.whl (1.6 MB)\n",
            "\u001b[2K     \u001b[90m━━━━━━━━━━━━━━━━━━━━━━━━━━━━━━━━━━━━━━━━\u001b[0m \u001b[32m1.6/1.6 MB\u001b[0m \u001b[31m79.2 MB/s\u001b[0m eta \u001b[36m0:00:00\u001b[0m\n",
            "\u001b[?25hRequirement already satisfied: decorator in /usr/local/lib/python3.10/dist-packages (from ipython->ultralytics==8.0.3) (4.4.2)\n",
            "Requirement already satisfied: pickleshare in /usr/local/lib/python3.10/dist-packages (from ipython->ultralytics==8.0.3) (0.7.5)\n",
            "Requirement already satisfied: traitlets>=4.2 in /usr/local/lib/python3.10/dist-packages (from ipython->ultralytics==8.0.3) (5.7.1)\n",
            "Requirement already satisfied: prompt-toolkit!=3.0.0,!=3.0.1,<3.1.0,>=2.0.0 in /usr/local/lib/python3.10/dist-packages (from ipython->ultralytics==8.0.3) (3.0.43)\n",
            "Requirement already satisfied: pygments in /usr/local/lib/python3.10/dist-packages (from ipython->ultralytics==8.0.3) (2.16.1)\n",
            "Requirement already satisfied: backcall in /usr/local/lib/python3.10/dist-packages (from ipython->ultralytics==8.0.3) (0.2.0)\n",
            "Requirement already satisfied: matplotlib-inline in /usr/local/lib/python3.10/dist-packages (from ipython->ultralytics==8.0.3) (0.1.6)\n",
            "Requirement already satisfied: pexpect>4.3 in /usr/local/lib/python3.10/dist-packages (from ipython->ultralytics==8.0.3) (4.9.0)\n",
            "Requirement already satisfied: click>=7.0 in /usr/local/lib/python3.10/dist-packages (from mkdocs->ultralytics==8.0.3) (8.1.7)\n",
            "Collecting ghp-import>=1.0 (from mkdocs->ultralytics==8.0.3)\n",
            "  Downloading ghp_import-2.1.0-py3-none-any.whl (11 kB)\n",
            "Requirement already satisfied: markupsafe>=2.0.1 in /usr/local/lib/python3.10/dist-packages (from mkdocs->ultralytics==8.0.3) (2.1.3)\n",
            "Collecting mergedeep>=1.3.4 (from mkdocs->ultralytics==8.0.3)\n",
            "  Downloading mergedeep-1.3.4-py3-none-any.whl (6.4 kB)\n",
            "Collecting pathspec>=0.11.1 (from mkdocs->ultralytics==8.0.3)\n",
            "  Downloading pathspec-0.12.1-py3-none-any.whl (31 kB)\n",
            "Requirement already satisfied: platformdirs>=2.2.0 in /usr/local/lib/python3.10/dist-packages (from mkdocs->ultralytics==8.0.3) (4.1.0)\n",
            "Collecting pyyaml-env-tag>=0.1 (from mkdocs->ultralytics==8.0.3)\n",
            "  Downloading pyyaml_env_tag-0.1-py3-none-any.whl (3.9 kB)\n",
            "Collecting watchdog>=2.0 (from mkdocs->ultralytics==8.0.3)\n",
            "  Downloading watchdog-3.0.0-py3-none-manylinux2014_x86_64.whl (82 kB)\n",
            "\u001b[2K     \u001b[90m━━━━━━━━━━━━━━━━━━━━━━━━━━━━━━━━━━━━━━━━\u001b[0m \u001b[32m82.1/82.1 kB\u001b[0m \u001b[31m8.8 MB/s\u001b[0m eta \u001b[36m0:00:00\u001b[0m\n",
            "\u001b[?25hRequirement already satisfied: babel~=2.10 in /usr/local/lib/python3.10/dist-packages (from mkdocs-material->ultralytics==8.0.3) (2.14.0)\n",
            "Collecting colorama~=0.4 (from mkdocs-material->ultralytics==8.0.3)\n",
            "  Downloading colorama-0.4.6-py2.py3-none-any.whl (25 kB)\n",
            "Collecting mkdocs-material-extensions~=1.3 (from mkdocs-material->ultralytics==8.0.3)\n",
            "  Downloading mkdocs_material_extensions-1.3.1-py3-none-any.whl (8.7 kB)\n",
            "Collecting paginate~=0.5 (from mkdocs-material->ultralytics==8.0.3)\n",
            "  Downloading paginate-0.5.6.tar.gz (12 kB)\n",
            "  Preparing metadata (setup.py) ... \u001b[?25l\u001b[?25hdone\n",
            "Collecting pymdown-extensions~=10.2 (from mkdocs-material->ultralytics==8.0.3)\n",
            "  Downloading pymdown_extensions-10.7-py3-none-any.whl (250 kB)\n",
            "\u001b[2K     \u001b[90m━━━━━━━━━━━━━━━━━━━━━━━━━━━━━━━━━━━━━━━━\u001b[0m \u001b[32m250.8/250.8 kB\u001b[0m \u001b[31m25.5 MB/s\u001b[0m eta \u001b[36m0:00:00\u001b[0m\n",
            "\u001b[?25hRequirement already satisfied: regex>=2022.4 in /usr/local/lib/python3.10/dist-packages (from mkdocs-material->ultralytics==8.0.3) (2023.6.3)\n",
            "Collecting mkdocs-autorefs>=0.3.1 (from mkdocstrings[python]->ultralytics==8.0.3)\n",
            "  Downloading mkdocs_autorefs-0.5.0-py3-none-any.whl (9.6 kB)\n",
            "Collecting mkdocstrings-python>=0.5.2 (from mkdocstrings[python]->ultralytics==8.0.3)\n",
            "  Downloading mkdocstrings_python-1.8.0-py3-none-any.whl (58 kB)\n",
            "\u001b[2K     \u001b[90m━━━━━━━━━━━━━━━━━━━━━━━━━━━━━━━━━━━━━━━━\u001b[0m \u001b[32m58.2/58.2 kB\u001b[0m \u001b[31m7.5 MB/s\u001b[0m eta \u001b[36m0:00:00\u001b[0m\n",
            "\u001b[?25hRequirement already satisfied: iniconfig in /usr/local/lib/python3.10/dist-packages (from pytest->ultralytics==8.0.3) (2.0.0)\n",
            "Requirement already satisfied: pluggy<2.0,>=0.12 in /usr/local/lib/python3.10/dist-packages (from pytest->ultralytics==8.0.3) (1.3.0)\n",
            "Requirement already satisfied: exceptiongroup>=1.0.0rc8 in /usr/local/lib/python3.10/dist-packages (from pytest->ultralytics==8.0.3) (1.2.0)\n",
            "Requirement already satisfied: pyproject_hooks in /usr/local/lib/python3.10/dist-packages (from build>=0.1->check-manifest->ultralytics==8.0.3) (1.0.0)\n",
            "Collecting smmap<6,>=3.0.1 (from gitdb<5,>=4.0.1->GitPython>=3.1.24->ultralytics==8.0.3)\n",
            "  Downloading smmap-5.0.1-py3-none-any.whl (24 kB)\n",
            "Requirement already satisfied: cachetools<6.0,>=2.0.0 in /usr/local/lib/python3.10/dist-packages (from google-auth<3,>=1.6.3->tensorboard>=2.4.1->ultralytics==8.0.3) (5.3.2)\n",
            "Requirement already satisfied: pyasn1-modules>=0.2.1 in /usr/local/lib/python3.10/dist-packages (from google-auth<3,>=1.6.3->tensorboard>=2.4.1->ultralytics==8.0.3) (0.3.0)\n",
            "Requirement already satisfied: rsa<5,>=3.1.4 in /usr/local/lib/python3.10/dist-packages (from google-auth<3,>=1.6.3->tensorboard>=2.4.1->ultralytics==8.0.3) (4.9)\n",
            "Requirement already satisfied: requests-oauthlib>=0.7.0 in /usr/local/lib/python3.10/dist-packages (from google-auth-oauthlib<2,>=0.5->tensorboard>=2.4.1->ultralytics==8.0.3) (1.3.1)\n",
            "Requirement already satisfied: parso<0.9.0,>=0.8.3 in /usr/local/lib/python3.10/dist-packages (from jedi>=0.16->ipython->ultralytics==8.0.3) (0.8.3)\n",
            "Collecting griffe>=0.37 (from mkdocstrings-python>=0.5.2->mkdocstrings[python]->ultralytics==8.0.3)\n",
            "  Downloading griffe-0.38.1-py3-none-any.whl (1.0 MB)\n",
            "\u001b[2K     \u001b[90m━━━━━━━━━━━━━━━━━━━━━━━━━━━━━━━━━━━━━━━━\u001b[0m \u001b[32m1.0/1.0 MB\u001b[0m \u001b[31m61.7 MB/s\u001b[0m eta \u001b[36m0:00:00\u001b[0m\n",
            "\u001b[?25hRequirement already satisfied: ptyprocess>=0.5 in /usr/local/lib/python3.10/dist-packages (from pexpect>4.3->ipython->ultralytics==8.0.3) (0.7.0)\n",
            "Requirement already satisfied: wcwidth in /usr/local/lib/python3.10/dist-packages (from prompt-toolkit!=3.0.0,!=3.0.1,<3.1.0,>=2.0.0->ipython->ultralytics==8.0.3) (0.2.12)\n",
            "Requirement already satisfied: mpmath>=0.19 in /usr/local/lib/python3.10/dist-packages (from sympy->torch>=1.7.0->ultralytics==8.0.3) (1.3.0)\n",
            "Requirement already satisfied: pyasn1<0.6.0,>=0.4.6 in /usr/local/lib/python3.10/dist-packages (from pyasn1-modules>=0.2.1->google-auth<3,>=1.6.3->tensorboard>=2.4.1->ultralytics==8.0.3) (0.5.1)\n",
            "Requirement already satisfied: oauthlib>=3.0.0 in /usr/local/lib/python3.10/dist-packages (from requests-oauthlib>=0.7.0->google-auth-oauthlib<2,>=0.5->tensorboard>=2.4.1->ultralytics==8.0.3) (3.2.2)\n",
            "Building wheels for collected packages: antlr4-python3-runtime, paginate\n",
            "  Building wheel for antlr4-python3-runtime (setup.py) ... \u001b[?25l\u001b[?25hdone\n",
            "  Created wheel for antlr4-python3-runtime: filename=antlr4_python3_runtime-4.9.3-py3-none-any.whl size=144554 sha256=fd16e72c333f484d8512b721dc12db15d5de2c79ca6d29d255c10a086a6fe734\n",
            "  Stored in directory: /root/.cache/pip/wheels/12/93/dd/1f6a127edc45659556564c5730f6d4e300888f4bca2d4c5a88\n",
            "  Building wheel for paginate (setup.py) ... \u001b[?25l\u001b[?25hdone\n",
            "  Created wheel for paginate: filename=paginate-0.5.6-py3-none-any.whl size=12666 sha256=5fd4e670fe7c6d44ad3fee17a5bd1605ddf1dc93794d5e3d16c0214cce1c642f\n",
            "  Stored in directory: /root/.cache/pip/wheels/47/d3/18/0b5bebc873f29bea61fedece1e92cbcbef416839dfe5bd0eef\n",
            "Successfully built antlr4-python3-runtime paginate\n",
            "Installing collected packages: paginate, antlr4-python3-runtime, watchdog, smmap, pyyaml-env-tag, pymdown-extensions, pathspec, omegaconf, mkdocs-material-extensions, mergedeep, jedi, coverage, colorama, hydra-core, griffe, gitdb, ghp-import, thop, pytest-cov, mkdocs, GitPython, check-manifest, mkdocs-material, mkdocs-autorefs, ultralytics, mkdocstrings, mkdocstrings-python\n",
            "  Running setup.py develop for ultralytics\n",
            "Successfully installed GitPython-3.1.41 antlr4-python3-runtime-4.9.3 check-manifest-0.49 colorama-0.4.6 coverage-7.4.0 ghp-import-2.1.0 gitdb-4.0.11 griffe-0.38.1 hydra-core-1.3.2 jedi-0.19.1 mergedeep-1.3.4 mkdocs-1.5.3 mkdocs-autorefs-0.5.0 mkdocs-material-9.5.3 mkdocs-material-extensions-1.3.1 mkdocstrings-0.24.0 mkdocstrings-python-1.8.0 omegaconf-2.3.0 paginate-0.5.6 pathspec-0.12.1 pymdown-extensions-10.7 pytest-cov-4.1.0 pyyaml-env-tag-0.1 smmap-5.0.1 thop-0.1.1.post2209072238 ultralytics-8.0.3 watchdog-3.0.0\n"
          ]
        },
        {
          "output_type": "display_data",
          "data": {
            "application/vnd.colab-display-data+json": {
              "pip_warning": {
                "packages": [
                  "pydevd_plugins"
                ]
              }
            }
          },
          "metadata": {}
        }
      ]
    },
    {
      "cell_type": "markdown",
      "source": [
        "##Moving to the required directory"
      ],
      "metadata": {
        "id": "ETRCU1Z2I44N"
      }
    },
    {
      "cell_type": "code",
      "source": [
        "%cd /content/traffic-congestion/dataset/YOLOv8-DeepSORT/YOLOv8-DeepSORT-Object-Tracking-main/ultralytics/yolo/v8/detect"
      ],
      "metadata": {
        "colab": {
          "base_uri": "https://localhost:8080/"
        },
        "id": "UYNfc2W6-22O",
        "outputId": "2f7206f4-8461-4887-da8f-e808b672693b"
      },
      "execution_count": null,
      "outputs": [
        {
          "output_type": "stream",
          "name": "stdout",
          "text": [
            "/content/traffic-congestion/dataset/YOLOv8-DeepSORT/YOLOv8-DeepSORT-Object-Tracking-main/ultralytics/yolo/v8/detect\n"
          ]
        }
      ]
    },
    {
      "cell_type": "markdown",
      "source": [
        "##If the file ckpt.t7 is not found in the folder deep-sort-pytorch/deep-sort/deep/checkpoint, download the entire deep sort folder from the link below and insert the .t7 file."
      ],
      "metadata": {
        "id": "p8lVMhS_FXF3"
      }
    },
    {
      "cell_type": "code",
      "source": [
        "!gdown \"https://drive.google.com/uc?id=1lkUUUCdk2uXIxIbsX8Y_8cphrC91oIjq&confirm=t\""
      ],
      "metadata": {
        "id": "-5xOlkEdFGNA"
      },
      "execution_count": null,
      "outputs": []
    },
    {
      "cell_type": "markdown",
      "source": [
        "##Insert video to 'detect' directory and run script. In the same directory, you will find the output video, CSV file and pkl file."
      ],
      "metadata": {
        "id": "5cl7lKsVDpUR"
      }
    },
    {
      "cell_type": "code",
      "source": [
        "!python predict.py model=yolov8l.pt source=\"test3.mkv\""
      ],
      "metadata": {
        "colab": {
          "base_uri": "https://localhost:8080/"
        },
        "id": "buyICNw1_M8F",
        "outputId": "b243201e-7463-4373-c830-b722b2922c00"
      },
      "execution_count": null,
      "outputs": [
        {
          "output_type": "stream",
          "name": "stdout",
          "text": [
            "[2024-01-13 18:19:24,243][root.tracker][INFO] - Loading weights from deep_sort_pytorch/deep_sort/deep/checkpoint/ckpt.t7... Done!\n",
            "2024-01-13 18:19:24.683753: E external/local_xla/xla/stream_executor/cuda/cuda_dnn.cc:9261] Unable to register cuDNN factory: Attempting to register factory for plugin cuDNN when one has already been registered\n",
            "2024-01-13 18:19:24.683814: E external/local_xla/xla/stream_executor/cuda/cuda_fft.cc:607] Unable to register cuFFT factory: Attempting to register factory for plugin cuFFT when one has already been registered\n",
            "2024-01-13 18:19:24.685340: E external/local_xla/xla/stream_executor/cuda/cuda_blas.cc:1515] Unable to register cuBLAS factory: Attempting to register factory for plugin cuBLAS when one has already been registered\n",
            "2024-01-13 18:19:26.270131: W tensorflow/compiler/tf2tensorrt/utils/py_utils.cc:38] TF-TRT Warning: Could not find TensorRT\n",
            "Ultralytics YOLOv8.0.3 🚀 Python-3.10.12 torch-2.1.0+cu121 CPU\n",
            "Fusing layers... \n",
            "YOLOv8l summary: 268 layers, 43668288 parameters, 0 gradients, 165.2 GFLOPs\n",
            "video 1/1 (1/1847) /content/traffic-congestion/dataset/YOLOv8-DeepSORT/YOLOv8-DeepSORT-Object-Tracking-main/ultralytics/yolo/v8/detect/test3.mkv: 384x640 6 persons, 13 cars, 4 trucks, 1 traffic light, 1664.8ms\n",
            "video 1/1 (2/1847) /content/traffic-congestion/dataset/YOLOv8-DeepSORT/YOLOv8-DeepSORT-Object-Tracking-main/ultralytics/yolo/v8/detect/test3.mkv: 384x640 6 persons, 13 cars, 5 trucks, 2 traffic lights, 1545.8ms\n",
            "video 1/1 (3/1847) /content/traffic-congestion/dataset/YOLOv8-DeepSORT/YOLOv8-DeepSORT-Object-Tracking-main/ultralytics/yolo/v8/detect/test3.mkv: 384x640 6 persons, 13 cars, 5 trucks, 2 traffic lights, 1555.2ms\n",
            "video 1/1 (4/1847) /content/traffic-congestion/dataset/YOLOv8-DeepSORT/YOLOv8-DeepSORT-Object-Tracking-main/ultralytics/yolo/v8/detect/test3.mkv: 384x640 9 persons, 16 cars, 1 bus, 3 trucks, 1 traffic light, 2149.3ms\n",
            "video 1/1 (5/1847) /content/traffic-congestion/dataset/YOLOv8-DeepSORT/YOLOv8-DeepSORT-Object-Tracking-main/ultralytics/yolo/v8/detect/test3.mkv: 384x640 9 persons, 16 cars, 1 bus, 4 trucks, 1 traffic light, 1559.5ms\n",
            "video 1/1 (6/1847) /content/traffic-congestion/dataset/YOLOv8-DeepSORT/YOLOv8-DeepSORT-Object-Tracking-main/ultralytics/yolo/v8/detect/test3.mkv: 384x640 11 persons, 12 cars, 4 trucks, 1 traffic light, 1567.2ms\n",
            "video 1/1 (7/1847) /content/traffic-congestion/dataset/YOLOv8-DeepSORT/YOLOv8-DeepSORT-Object-Tracking-main/ultralytics/yolo/v8/detect/test3.mkv: 384x640 11 persons, 12 cars, 1 bus, 4 trucks, 1 traffic light, 1592.9ms\n",
            "video 1/1 (8/1847) /content/traffic-congestion/dataset/YOLOv8-DeepSORT/YOLOv8-DeepSORT-Object-Tracking-main/ultralytics/yolo/v8/detect/test3.mkv: 384x640 11 persons, 12 cars, 1 bus, 4 trucks, 1 traffic light, 2445.0ms\n",
            "video 1/1 (9/1847) /content/traffic-congestion/dataset/YOLOv8-DeepSORT/YOLOv8-DeepSORT-Object-Tracking-main/ultralytics/yolo/v8/detect/test3.mkv: 384x640 11 persons, 12 cars, 1 bus, 4 trucks, 1 traffic light, 1585.3ms\n",
            "video 1/1 (10/1847) /content/traffic-congestion/dataset/YOLOv8-DeepSORT/YOLOv8-DeepSORT-Object-Tracking-main/ultralytics/yolo/v8/detect/test3.mkv: 384x640 9 persons, 14 cars, 6 trucks, 2 traffic lights, 1610.3ms\n",
            "video 1/1 (11/1847) /content/traffic-congestion/dataset/YOLOv8-DeepSORT/YOLOv8-DeepSORT-Object-Tracking-main/ultralytics/yolo/v8/detect/test3.mkv: 384x640 9 persons, 12 cars, 4 trucks, 1 traffic light, 1567.1ms\n",
            "video 1/1 (12/1847) /content/traffic-congestion/dataset/YOLOv8-DeepSORT/YOLOv8-DeepSORT-Object-Tracking-main/ultralytics/yolo/v8/detect/test3.mkv: 384x640 9 persons, 12 cars, 4 trucks, 1 traffic light, 2381.2ms\n",
            "video 1/1 (13/1847) /content/traffic-congestion/dataset/YOLOv8-DeepSORT/YOLOv8-DeepSORT-Object-Tracking-main/ultralytics/yolo/v8/detect/test3.mkv: 384x640 9 persons, 12 cars, 4 trucks, 1 traffic light, 1585.7ms\n",
            "video 1/1 (14/1847) /content/traffic-congestion/dataset/YOLOv8-DeepSORT/YOLOv8-DeepSORT-Object-Tracking-main/ultralytics/yolo/v8/detect/test3.mkv: 384x640 7 persons, 13 cars, 1 bus, 6 trucks, 2 traffic lights, 1 horse, 1 potted plant, 1561.3ms\n"
          ]
        }
      ]
    },
    {
      "cell_type": "markdown",
      "source": [
        "##Display the video"
      ],
      "metadata": {
        "id": "KnGqlZCNJMay"
      }
    },
    {
      "cell_type": "code",
      "source": [
        "!rm \"/content/result_compressed.mp4\""
      ],
      "metadata": {
        "id": "-nB1CrTPC7t7"
      },
      "execution_count": null,
      "outputs": []
    },
    {
      "cell_type": "code",
      "source": [
        "from IPython.display import HTML\n",
        "from base64 import b64encode\n",
        "import os\n",
        "\n",
        "video_name = \"test3.mp4\"\n",
        "\n",
        "# Input video path\n",
        "save_path = '/content/YOLOv8-DeepSORT-Object-Tracking/runs/detect/train2/'+video_name\n",
        "\n",
        "# Compressed video path\n",
        "compressed_path = \"/content/result_compressed.mp4\"\n",
        "\n",
        "os.system(f\"ffmpeg -i {save_path} -vcodec libx264 {compressed_path}\")\n",
        "\n",
        "# Show video\n",
        "mp4 = open(compressed_path,'rb').read()\n",
        "data_url = \"data:video/mp4;base64,\" + b64encode(mp4).decode()\n",
        "HTML(\"\"\"\n",
        "<video width=400 controls>\n",
        "      <source src=\"%s\" type=\"video/mp4\">\n",
        "</video>\n",
        "\"\"\" % data_url)"
      ],
      "metadata": {
        "id": "FlpmJTG8ERBq"
      },
      "execution_count": null,
      "outputs": []
    }
  ]
}
